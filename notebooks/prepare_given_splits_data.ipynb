{
 "cells": [
  {
   "cell_type": "code",
   "execution_count": 10,
   "metadata": {},
   "outputs": [],
   "source": [
    "import os\n",
    "import pandas as pd\n",
    "import numpy as np\n",
    "import joblib\n",
    " \n",
    "from imutils import paths\n",
    "from sklearn.preprocessing import LabelBinarizer\n",
    "from tqdm import tqdm\n",
    "from pathlib import Path\n",
    "\n",
    "import shutil"
   ]
  },
  {
   "cell_type": "markdown",
   "metadata": {},
   "source": [
    "## Style Data"
   ]
  },
  {
   "cell_type": "code",
   "execution_count": 5,
   "metadata": {},
   "outputs": [],
   "source": [
    "style_train_csv_path = 'dataset/Style/style_train.csv'\n",
    "style_val_csv_path = 'dataset/Style/style_val.csv'"
   ]
  },
  {
   "cell_type": "code",
   "execution_count": 6,
   "metadata": {},
   "outputs": [
    {
     "data": {
      "text/html": [
       "<div>\n",
       "<style scoped>\n",
       "    .dataframe tbody tr th:only-of-type {\n",
       "        vertical-align: middle;\n",
       "    }\n",
       "\n",
       "    .dataframe tbody tr th {\n",
       "        vertical-align: top;\n",
       "    }\n",
       "\n",
       "    .dataframe thead th {\n",
       "        text-align: right;\n",
       "    }\n",
       "</style>\n",
       "<table border=\"1\" class=\"dataframe\">\n",
       "  <thead>\n",
       "    <tr style=\"text-align: right;\">\n",
       "      <th></th>\n",
       "      <th>filename</th>\n",
       "      <th>class</th>\n",
       "    </tr>\n",
       "  </thead>\n",
       "  <tbody>\n",
       "    <tr>\n",
       "      <th>0</th>\n",
       "      <td>Impressionism/edgar-degas_landscape-on-the-orn...</td>\n",
       "      <td>12</td>\n",
       "    </tr>\n",
       "    <tr>\n",
       "      <th>1</th>\n",
       "      <td>Realism/camille-corot_mantes-cathedral.jpg</td>\n",
       "      <td>21</td>\n",
       "    </tr>\n",
       "    <tr>\n",
       "      <th>2</th>\n",
       "      <td>Abstract_Expressionism/gene-davis_untitled-197...</td>\n",
       "      <td>0</td>\n",
       "    </tr>\n",
       "    <tr>\n",
       "      <th>3</th>\n",
       "      <td>Symbolism/kuzma-petrov-vodkin_in-the-1920.jpg</td>\n",
       "      <td>24</td>\n",
       "    </tr>\n",
       "    <tr>\n",
       "      <th>4</th>\n",
       "      <td>Impressionism/maurice-prendergast_paris-boulev...</td>\n",
       "      <td>12</td>\n",
       "    </tr>\n",
       "  </tbody>\n",
       "</table>\n",
       "</div>"
      ],
      "text/plain": [
       "                                            filename  class\n",
       "0  Impressionism/edgar-degas_landscape-on-the-orn...     12\n",
       "1         Realism/camille-corot_mantes-cathedral.jpg     21\n",
       "2  Abstract_Expressionism/gene-davis_untitled-197...      0\n",
       "3      Symbolism/kuzma-petrov-vodkin_in-the-1920.jpg     24\n",
       "4  Impressionism/maurice-prendergast_paris-boulev...     12"
      ]
     },
     "execution_count": 6,
     "metadata": {},
     "output_type": "execute_result"
    }
   ],
   "source": [
    "s_train_csv = pd.read_csv(style_train_csv_path, header=None)\n",
    "s_train_csv.columns = ['filename', 'class']\n",
    "s_train_csv.head()"
   ]
  },
  {
   "cell_type": "code",
   "execution_count": 7,
   "metadata": {},
   "outputs": [
    {
     "data": {
      "text/html": [
       "<div>\n",
       "<style scoped>\n",
       "    .dataframe tbody tr th:only-of-type {\n",
       "        vertical-align: middle;\n",
       "    }\n",
       "\n",
       "    .dataframe tbody tr th {\n",
       "        vertical-align: top;\n",
       "    }\n",
       "\n",
       "    .dataframe thead th {\n",
       "        text-align: right;\n",
       "    }\n",
       "</style>\n",
       "<table border=\"1\" class=\"dataframe\">\n",
       "  <thead>\n",
       "    <tr style=\"text-align: right;\">\n",
       "      <th></th>\n",
       "      <th>filename</th>\n",
       "      <th>class</th>\n",
       "    </tr>\n",
       "  </thead>\n",
       "  <tbody>\n",
       "    <tr>\n",
       "      <th>0</th>\n",
       "      <td>Impressionism/edgar-degas_dancers-on-set-1880.jpg</td>\n",
       "      <td>12</td>\n",
       "    </tr>\n",
       "    <tr>\n",
       "      <th>1</th>\n",
       "      <td>Impressionism/claude-monet_water-lilies-6.jpg</td>\n",
       "      <td>12</td>\n",
       "    </tr>\n",
       "    <tr>\n",
       "      <th>2</th>\n",
       "      <td>Impressionism/giovanni-boldini_a-guitar-player...</td>\n",
       "      <td>12</td>\n",
       "    </tr>\n",
       "    <tr>\n",
       "      <th>3</th>\n",
       "      <td>Impressionism/john-singer-sargent_at-torre-gal...</td>\n",
       "      <td>12</td>\n",
       "    </tr>\n",
       "    <tr>\n",
       "      <th>4</th>\n",
       "      <td>Impressionism/john-singer-sargent_artist-in-th...</td>\n",
       "      <td>12</td>\n",
       "    </tr>\n",
       "  </tbody>\n",
       "</table>\n",
       "</div>"
      ],
      "text/plain": [
       "                                            filename  class\n",
       "0  Impressionism/edgar-degas_dancers-on-set-1880.jpg     12\n",
       "1      Impressionism/claude-monet_water-lilies-6.jpg     12\n",
       "2  Impressionism/giovanni-boldini_a-guitar-player...     12\n",
       "3  Impressionism/john-singer-sargent_at-torre-gal...     12\n",
       "4  Impressionism/john-singer-sargent_artist-in-th...     12"
      ]
     },
     "execution_count": 7,
     "metadata": {},
     "output_type": "execute_result"
    }
   ],
   "source": [
    "s_valid_csv = pd.read_csv(style_val_csv_path, header=None)\n",
    "s_valid_csv.columns = ['filename', 'class']\n",
    "s_valid_csv.head()"
   ]
  },
  {
   "cell_type": "code",
   "execution_count": 23,
   "metadata": {},
   "outputs": [],
   "source": [
    "load_dir = '/media/prathmeshmadhu/My Passport/wikiart/dataset/wikiart'\n",
    "which_classification = 'style_based_split'\n",
    "split = ['train', 'valid']\n",
    "split_dfs = [s_train_csv, s_valid_csv]\n",
    "for sp, sp_df in zip(split,split_dfs):\n",
    "    save_prefix = '/media/prathmeshmadhu/My Passport/wikiart/dataset/' + which_classification + os.sep + sp \n",
    "    Path(save_prefix).mkdir(parents=True, exist_ok=True)\n",
    "\n",
    "    for i, row in sp_df.iterrows():\n",
    "        \n",
    "        folder_name = row['filename'].split('/')[0]\n",
    "        save_dir = Path(os.path.join(save_prefix, folder_name))\n",
    "        Path(save_dir).mkdir(parents=True, exist_ok=True)\n",
    "        \n",
    "        load_path = Path(os.path.join(load_dir, row['filename']))\n",
    "        save_path = Path(os.path.join(save_dir, row['filename'].split('/')[-1]))\n",
    "        \n",
    "        shutil.copy(load_path, save_path)"
   ]
  },
  {
   "cell_type": "code",
   "execution_count": null,
   "metadata": {},
   "outputs": [],
   "source": []
  },
  {
   "cell_type": "code",
   "execution_count": null,
   "metadata": {},
   "outputs": [],
   "source": []
  },
  {
   "cell_type": "markdown",
   "metadata": {},
   "source": [
    "## Artist Data"
   ]
  },
  {
   "cell_type": "code",
   "execution_count": 5,
   "metadata": {},
   "outputs": [],
   "source": [
    "artist_train_csv_path = 'dataset/Artist/artist_train'\n",
    "artist_val_csv_path = 'dataset/Artist/artist_val'"
   ]
  },
  {
   "cell_type": "code",
   "execution_count": 26,
   "metadata": {},
   "outputs": [
    {
     "data": {
      "text/html": [
       "<div>\n",
       "<style scoped>\n",
       "    .dataframe tbody tr th:only-of-type {\n",
       "        vertical-align: middle;\n",
       "    }\n",
       "\n",
       "    .dataframe tbody tr th {\n",
       "        vertical-align: top;\n",
       "    }\n",
       "\n",
       "    .dataframe thead th {\n",
       "        text-align: right;\n",
       "    }\n",
       "</style>\n",
       "<table border=\"1\" class=\"dataframe\">\n",
       "  <thead>\n",
       "    <tr style=\"text-align: right;\">\n",
       "      <th></th>\n",
       "      <th>filename</th>\n",
       "      <th>class</th>\n",
       "    </tr>\n",
       "  </thead>\n",
       "  <tbody>\n",
       "    <tr>\n",
       "      <th>0</th>\n",
       "      <td>Realism/vincent-van-gogh_pine-trees-in-the-fen...</td>\n",
       "      <td>22</td>\n",
       "    </tr>\n",
       "    <tr>\n",
       "      <th>1</th>\n",
       "      <td>Baroque/rembrandt_the-angel-appearing-to-the-s...</td>\n",
       "      <td>20</td>\n",
       "    </tr>\n",
       "    <tr>\n",
       "      <th>2</th>\n",
       "      <td>Post_Impressionism/paul-cezanne_portrait-of-th...</td>\n",
       "      <td>16</td>\n",
       "    </tr>\n",
       "    <tr>\n",
       "      <th>3</th>\n",
       "      <td>Impressionism/pierre-auguste-renoir_young-girl...</td>\n",
       "      <td>17</td>\n",
       "    </tr>\n",
       "    <tr>\n",
       "      <th>4</th>\n",
       "      <td>Romanticism/ivan-aivazovsky_morning-1851.jpg</td>\n",
       "      <td>9</td>\n",
       "    </tr>\n",
       "  </tbody>\n",
       "</table>\n",
       "</div>"
      ],
      "text/plain": [
       "                                            filename  class\n",
       "0  Realism/vincent-van-gogh_pine-trees-in-the-fen...     22\n",
       "1  Baroque/rembrandt_the-angel-appearing-to-the-s...     20\n",
       "2  Post_Impressionism/paul-cezanne_portrait-of-th...     16\n",
       "3  Impressionism/pierre-auguste-renoir_young-girl...     17\n",
       "4       Romanticism/ivan-aivazovsky_morning-1851.jpg      9"
      ]
     },
     "execution_count": 26,
     "metadata": {},
     "output_type": "execute_result"
    }
   ],
   "source": [
    "a_train_csv = pd.read_csv(artist_train_csv_path, header=None, skiprows=1)\n",
    "a_train_csv.columns = ['filename', 'empty', 'class']\n",
    "a_train_csv.drop(['empty'], axis=1, inplace=True)\n",
    "a_train_csv.head()"
   ]
  },
  {
   "cell_type": "code",
   "execution_count": 28,
   "metadata": {},
   "outputs": [
    {
     "data": {
      "text/html": [
       "<div>\n",
       "<style scoped>\n",
       "    .dataframe tbody tr th:only-of-type {\n",
       "        vertical-align: middle;\n",
       "    }\n",
       "\n",
       "    .dataframe tbody tr th {\n",
       "        vertical-align: top;\n",
       "    }\n",
       "\n",
       "    .dataframe thead th {\n",
       "        text-align: right;\n",
       "    }\n",
       "</style>\n",
       "<table border=\"1\" class=\"dataframe\">\n",
       "  <thead>\n",
       "    <tr style=\"text-align: right;\">\n",
       "      <th></th>\n",
       "      <th>filename</th>\n",
       "      <th>class</th>\n",
       "    </tr>\n",
       "  </thead>\n",
       "  <tbody>\n",
       "    <tr>\n",
       "      <th>0</th>\n",
       "      <td>Impressionism/claude-monet_water-lilies-6.jpg</td>\n",
       "      <td>4</td>\n",
       "    </tr>\n",
       "    <tr>\n",
       "      <th>1</th>\n",
       "      <td>Impressionism/claude-monet_banks-of-the-seine-...</td>\n",
       "      <td>4</td>\n",
       "    </tr>\n",
       "    <tr>\n",
       "      <th>2</th>\n",
       "      <td>Impressionism/claude-monet_vetheuil-the-church...</td>\n",
       "      <td>4</td>\n",
       "    </tr>\n",
       "    <tr>\n",
       "      <th>3</th>\n",
       "      <td>Impressionism/claude-monet_jeanne-marguerite-l...</td>\n",
       "      <td>4</td>\n",
       "    </tr>\n",
       "    <tr>\n",
       "      <th>4</th>\n",
       "      <td>Impressionism/claude-monet_houses-of-parliamen...</td>\n",
       "      <td>4</td>\n",
       "    </tr>\n",
       "  </tbody>\n",
       "</table>\n",
       "</div>"
      ],
      "text/plain": [
       "                                            filename  class\n",
       "0      Impressionism/claude-monet_water-lilies-6.jpg      4\n",
       "1  Impressionism/claude-monet_banks-of-the-seine-...      4\n",
       "2  Impressionism/claude-monet_vetheuil-the-church...      4\n",
       "3  Impressionism/claude-monet_jeanne-marguerite-l...      4\n",
       "4  Impressionism/claude-monet_houses-of-parliamen...      4"
      ]
     },
     "execution_count": 28,
     "metadata": {},
     "output_type": "execute_result"
    }
   ],
   "source": [
    "a_val_csv = pd.read_csv(artist_val_csv_path, header=None, skiprows=1)\n",
    "a_val_csv.columns = ['filename', 'empty', 'class']\n",
    "a_val_csv.drop(['empty'], axis=1, inplace=True)\n",
    "a_val_csv.head()"
   ]
  },
  {
   "cell_type": "markdown",
   "metadata": {},
   "source": [
    "## Genre Classification"
   ]
  },
  {
   "cell_type": "code",
   "execution_count": 8,
   "metadata": {},
   "outputs": [],
   "source": [
    "g_train_csv_path = 'dataset/Genre/genre_train.csv'\n",
    "g_val_csv_path = 'dataset/Genre/genre_val.csv'"
   ]
  },
  {
   "cell_type": "code",
   "execution_count": 29,
   "metadata": {},
   "outputs": [
    {
     "data": {
      "text/html": [
       "<div>\n",
       "<style scoped>\n",
       "    .dataframe tbody tr th:only-of-type {\n",
       "        vertical-align: middle;\n",
       "    }\n",
       "\n",
       "    .dataframe tbody tr th {\n",
       "        vertical-align: top;\n",
       "    }\n",
       "\n",
       "    .dataframe thead th {\n",
       "        text-align: right;\n",
       "    }\n",
       "</style>\n",
       "<table border=\"1\" class=\"dataframe\">\n",
       "  <thead>\n",
       "    <tr style=\"text-align: right;\">\n",
       "      <th></th>\n",
       "      <th>filename</th>\n",
       "      <th>class</th>\n",
       "    </tr>\n",
       "  </thead>\n",
       "  <tbody>\n",
       "    <tr>\n",
       "      <th>0</th>\n",
       "      <td>Northern_Renaissance/hieronymus-bosch_st-jacqu...</td>\n",
       "      <td>7</td>\n",
       "    </tr>\n",
       "    <tr>\n",
       "      <th>1</th>\n",
       "      <td>Post_Impressionism/vincent-van-gogh_ears-of-wh...</td>\n",
       "      <td>4</td>\n",
       "    </tr>\n",
       "    <tr>\n",
       "      <th>2</th>\n",
       "      <td>Symbolism/theodor-severin-kittelsen_kvitebj-rn...</td>\n",
       "      <td>3</td>\n",
       "    </tr>\n",
       "    <tr>\n",
       "      <th>3</th>\n",
       "      <td>Expressionism/martiros-saryan_mother-of-the-ar...</td>\n",
       "      <td>6</td>\n",
       "    </tr>\n",
       "    <tr>\n",
       "      <th>4</th>\n",
       "      <td>Early_Renaissance/leonardo-da-vinci_study-for-...</td>\n",
       "      <td>8</td>\n",
       "    </tr>\n",
       "  </tbody>\n",
       "</table>\n",
       "</div>"
      ],
      "text/plain": [
       "                                            filename  class\n",
       "0  Northern_Renaissance/hieronymus-bosch_st-jacqu...      7\n",
       "1  Post_Impressionism/vincent-van-gogh_ears-of-wh...      4\n",
       "2  Symbolism/theodor-severin-kittelsen_kvitebj-rn...      3\n",
       "3  Expressionism/martiros-saryan_mother-of-the-ar...      6\n",
       "4  Early_Renaissance/leonardo-da-vinci_study-for-...      8"
      ]
     },
     "execution_count": 29,
     "metadata": {},
     "output_type": "execute_result"
    }
   ],
   "source": [
    "g_train_csv = pd.read_csv(g_train_csv_path, header=None)\n",
    "g_train_csv.columns = ['filename', 'class']\n",
    "g_train_csv.head()"
   ]
  },
  {
   "cell_type": "code",
   "execution_count": 10,
   "metadata": {},
   "outputs": [
    {
     "data": {
      "text/html": [
       "<div>\n",
       "<style scoped>\n",
       "    .dataframe tbody tr th:only-of-type {\n",
       "        vertical-align: middle;\n",
       "    }\n",
       "\n",
       "    .dataframe tbody tr th {\n",
       "        vertical-align: top;\n",
       "    }\n",
       "\n",
       "    .dataframe thead th {\n",
       "        text-align: right;\n",
       "    }\n",
       "</style>\n",
       "<table border=\"1\" class=\"dataframe\">\n",
       "  <thead>\n",
       "    <tr style=\"text-align: right;\">\n",
       "      <th></th>\n",
       "      <th>filename</th>\n",
       "      <th>class</th>\n",
       "    </tr>\n",
       "  </thead>\n",
       "  <tbody>\n",
       "    <tr>\n",
       "      <th>19487</th>\n",
       "      <td>Minimalism/rodolfo-arico_untitled-1965-1.jpg</td>\n",
       "      <td>0</td>\n",
       "    </tr>\n",
       "    <tr>\n",
       "      <th>19488</th>\n",
       "      <td>Abstract_Expressionism/perle-fine_sunblinded-1...</td>\n",
       "      <td>0</td>\n",
       "    </tr>\n",
       "    <tr>\n",
       "      <th>19489</th>\n",
       "      <td>Abstract_Expressionism/john-hoyland_trickster-...</td>\n",
       "      <td>0</td>\n",
       "    </tr>\n",
       "    <tr>\n",
       "      <th>19490</th>\n",
       "      <td>Abstract_Expressionism/richard-pousette-dart_b...</td>\n",
       "      <td>0</td>\n",
       "    </tr>\n",
       "    <tr>\n",
       "      <th>19491</th>\n",
       "      <td>Minimalism/enrico-castellani_no-827-1963.jpg</td>\n",
       "      <td>0</td>\n",
       "    </tr>\n",
       "  </tbody>\n",
       "</table>\n",
       "</div>"
      ],
      "text/plain": [
       "                                                filename  class\n",
       "19487       Minimalism/rodolfo-arico_untitled-1965-1.jpg      0\n",
       "19488  Abstract_Expressionism/perle-fine_sunblinded-1...      0\n",
       "19489  Abstract_Expressionism/john-hoyland_trickster-...      0\n",
       "19490  Abstract_Expressionism/richard-pousette-dart_b...      0\n",
       "19491       Minimalism/enrico-castellani_no-827-1963.jpg      0"
      ]
     },
     "execution_count": 10,
     "metadata": {},
     "output_type": "execute_result"
    }
   ],
   "source": [
    "g_val_csv = pd.read_csv(g_val_csv_path, header=None)\n",
    "g_val_csv.columns = ['filename', 'class']\n",
    "g_val_csv.tail()"
   ]
  },
  {
   "cell_type": "code",
   "execution_count": 31,
   "metadata": {},
   "outputs": [],
   "source": [
    "s_train_csv.to_csv('resources/csvs/wikiart_style_train.csv', index=None)\n",
    "s_val_csv.to_csv('resources/csvs/wikiart_style_valid.csv', index=None)"
   ]
  },
  {
   "cell_type": "code",
   "execution_count": 32,
   "metadata": {},
   "outputs": [],
   "source": [
    "a_train_csv.to_csv('resources/csvs/wikiart_artist_train.csv', index=None)\n",
    "a_val_csv.to_csv('resources/csvs/wikiart_artist_valid.csv', index=None)"
   ]
  },
  {
   "cell_type": "code",
   "execution_count": 33,
   "metadata": {},
   "outputs": [],
   "source": [
    "g_train_csv.to_csv('resources/csvs/wikiart_genre_train.csv', index=None)\n",
    "g_val_csv.to_csv('resources/csvs/wikiart_genre_valid.csv', index=None)"
   ]
  },
  {
   "cell_type": "code",
   "execution_count": 19,
   "metadata": {},
   "outputs": [
    {
     "data": {
      "text/plain": [
       "(27, 24, 10)"
      ]
     },
     "execution_count": 19,
     "metadata": {},
     "output_type": "execute_result"
    }
   ],
   "source": [
    "len(np.unique(s_train_csv['class'])), len(np.unique(a_train_csv['class'])), len(np.unique(g_train_csv['class']))"
   ]
  },
  {
   "cell_type": "code",
   "execution_count": null,
   "metadata": {},
   "outputs": [],
   "source": []
  }
 ],
 "metadata": {
  "kernelspec": {
   "display_name": "Python 3",
   "language": "python",
   "name": "python3"
  },
  "language_info": {
   "codemirror_mode": {
    "name": "ipython",
    "version": 3
   },
   "file_extension": ".py",
   "mimetype": "text/x-python",
   "name": "python",
   "nbconvert_exporter": "python",
   "pygments_lexer": "ipython3",
   "version": "3.6.7"
  }
 },
 "nbformat": 4,
 "nbformat_minor": 4
}
