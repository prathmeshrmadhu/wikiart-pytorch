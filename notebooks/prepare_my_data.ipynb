{
 "cells": [
  {
   "cell_type": "code",
   "execution_count": 5,
   "metadata": {},
   "outputs": [],
   "source": [
    "import os\n",
    "import pandas as pd\n",
    "import numpy as np\n",
    "import joblib\n",
    " \n",
    "from imutils import paths\n",
    "from sklearn.preprocessing import LabelBinarizer\n",
    "from tqdm import tqdm"
   ]
  },
  {
   "cell_type": "code",
   "execution_count": null,
   "metadata": {},
   "outputs": [],
   "source": [
    "# get all the image paths\n",
    "image_paths = list(paths.list_images('wikiart/'))\n",
    " \n",
    "# create an empty DataFrame\n",
    "data = pd.DataFrame()\n",
    " \n",
    "labels = []\n",
    "for i, image_path in tqdm(enumerate(image_paths), total=len(image_paths)):\n",
    "    label = image_path.split(os.path.sep)[-2]\n",
    "    data.loc[i, 'image_path'] = image_path\n",
    " \n",
    "    labels.append(label)\n",
    "    \n",
    "labels = np.array(labels)\n",
    "# one hot encode\n",
    "lb = LabelBinarizer()\n",
    "labels = lb.fit_transform(labels)\n",
    " \n",
    "print(f\"The first one hot encoded labels: {labels[0]}\")\n",
    "print(f\"Mapping an one hot encoded label to its category: {lb.classes_[0]}\")\n",
    "print(f\"Total instances: {len(labels)}\")\n",
    " \n",
    "for i in range(len(labels)):\n",
    "    index = np.argmax(labels[i])\n",
    "    data.loc[i, 'target'] = int(index)"
   ]
  },
  {
   "cell_type": "code",
   "execution_count": 7,
   "metadata": {},
   "outputs": [
    {
     "name": "stdout",
     "output_type": "stream",
     "text": [
      "Save the one-hot encoded binarized labels as a pickled file.\n",
      "                                          image_path  target\n",
      "0  wikiart/Art_Nouveau_Modern/sergey-solomko_book...     3.0\n",
      "1  wikiart/Art_Nouveau_Modern/stefan-luchian_comp...     3.0\n",
      "2  wikiart/Baroque/francisco-de-zurbaran_the-youn...     4.0\n",
      "3  wikiart/Ukiyo_e/utagawa-kunisada-ii_portrait-o...    26.0\n",
      "4  wikiart/Impressionism/alfred-sisley_a-village-...    12.0\n"
     ]
    }
   ],
   "source": [
    "# shuffle the dataset\n",
    "data = data.sample(frac=1).reset_index(drop=True)\n",
    " \n",
    "# save as csv file\n",
    "data.to_csv('resources/data.csv', index=False)\n",
    " \n",
    "# pickle the label binarizer\n",
    "joblib.dump(lb, 'resources/lb.pkl')\n",
    "print('Save the one-hot encoded binarized labels as a pickled file.')\n",
    " \n",
    "print(data.head())"
   ]
  },
  {
   "cell_type": "code",
   "execution_count": null,
   "metadata": {},
   "outputs": [],
   "source": []
  }
 ],
 "metadata": {
  "kernelspec": {
   "display_name": "Python 3",
   "language": "python",
   "name": "python3"
  },
  "language_info": {
   "codemirror_mode": {
    "name": "ipython",
    "version": 3
   },
   "file_extension": ".py",
   "mimetype": "text/x-python",
   "name": "python",
   "nbconvert_exporter": "python",
   "pygments_lexer": "ipython3",
   "version": "3.6.8"
  }
 },
 "nbformat": 4,
 "nbformat_minor": 4
}
